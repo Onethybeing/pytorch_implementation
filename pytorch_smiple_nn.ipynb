{
  "nbformat": 4,
  "nbformat_minor": 0,
  "metadata": {
    "colab": {
      "provenance": [],
      "gpuType": "T4",
      "authorship_tag": "ABX9TyPmECc2jWYFx1cawgR8v+WZ",
      "include_colab_link": true
    },
    "kernelspec": {
      "name": "python3",
      "display_name": "Python 3"
    },
    "language_info": {
      "name": "python"
    },
    "accelerator": "GPU"
  },
  "cells": [
    {
      "cell_type": "markdown",
      "metadata": {
        "id": "view-in-github",
        "colab_type": "text"
      },
      "source": [
        "<a href=\"https://colab.research.google.com/github/Onethybeing/pytorch_implementation/blob/main/pytorch_smiple_nn.ipynb\" target=\"_parent\"><img src=\"https://colab.research.google.com/assets/colab-badge.svg\" alt=\"Open In Colab\"/></a>"
      ]
    },
    {
      "cell_type": "code",
      "execution_count": null,
      "metadata": {
        "id": "PtqPU3LnLnl-"
      },
      "outputs": [],
      "source": [
        "import torch\n",
        "import torch.nn as nn\n",
        "import torch.optim as optim"
      ]
    },
    {
      "cell_type": "code",
      "source": [
        "#functional name\n",
        "class SimpleNN(nn.Module):\n",
        "  def __init__(self,input_size,hidden_size,output_size):\n",
        "    super(SimpleNN,self).__init__()\n",
        "\n",
        "    self.fc1 = nn.Linear(input_size,hidden_size)\n",
        "    self.relu = nn.ReLU()\n",
        "    self.fc2 = nn.Linear(hidden_size,output_size)\n",
        "\n",
        "  def forward(self,x):\n",
        "    x =self.fc1(x)\n",
        "    x = self.relu(x)\n",
        "    x = self.fc2(x)\n",
        "    return x"
      ],
      "metadata": {
        "id": "EcFInlkFNzO3"
      },
      "execution_count": null,
      "outputs": []
    },
    {
      "cell_type": "code",
      "source": [
        "#sequential\n",
        "class SimpleNNSequential(nn.Module):\n",
        "  def __init__(self,input_size,hidden_size,output_size):\n",
        "    super(SimpleNNSequential,self).__init__()\n",
        "\n",
        "    self.network = nn.Sequential(\n",
        "        nn.Linear(input_size,hidden_size),\n",
        "        nn.ReLU(),\n",
        "        nn.Linear(hidden_size,output_size),\n",
        "    )\n",
        "\n",
        "  def forward(self,x):\n",
        "    x = self.network(x)\n",
        "    return x\n"
      ],
      "metadata": {
        "id": "L_QOXoymO4XL"
      },
      "execution_count": null,
      "outputs": []
    },
    {
      "cell_type": "code",
      "source": [
        "model_func = SimpleNN(input_size=4,hidden_size = 8,output_size = 2)\n",
        "print(model_func)\n",
        "model_seq = SimpleNNSequential(input_size=4,hidden_size = 8,output_size = 2)\n",
        "print(model_seq)"
      ],
      "metadata": {
        "colab": {
          "base_uri": "https://localhost:8080/"
        },
        "id": "bEJw5aWuRFaF",
        "outputId": "bafdc1ff-cd68-4009-d508-e1dc7e41ab0a"
      },
      "execution_count": null,
      "outputs": [
        {
          "output_type": "stream",
          "name": "stdout",
          "text": [
            "SimpleNN(\n",
            "  (fc1): Linear(in_features=4, out_features=8, bias=True)\n",
            "  (relu): ReLU()\n",
            "  (fc2): Linear(in_features=8, out_features=2, bias=True)\n",
            ")\n",
            "SimpleNNSequential(\n",
            "  (network): Sequential(\n",
            "    (0): Linear(in_features=4, out_features=8, bias=True)\n",
            "    (1): ReLU()\n",
            "    (2): Linear(in_features=8, out_features=2, bias=True)\n",
            "  )\n",
            ")\n"
          ]
        }
      ]
    },
    {
      "cell_type": "code",
      "source": [
        "x = torch.randn(10,4);\n",
        "y = torch.randint(0,3,(10,))\n",
        "criteria = nn.CrossEntropyLoss()\n",
        "optimizer = optim.Adam(model_func.parameters(),lr=0.01)\n"
      ],
      "metadata": {
        "id": "Zeo7NZ5wRXZm"
      },
      "execution_count": null,
      "outputs": []
    },
    {
      "cell_type": "code",
      "source": [
        "print(x)"
      ],
      "metadata": {
        "colab": {
          "base_uri": "https://localhost:8080/"
        },
        "id": "E44bJOKeSE0c",
        "outputId": "6f0f8d2a-5513-45a0-a937-7a2c4636482f"
      },
      "execution_count": null,
      "outputs": [
        {
          "output_type": "stream",
          "name": "stdout",
          "text": [
            "tensor([[ 0.0972, -0.1915,  2.7198,  0.2096],\n",
            "        [ 0.0454,  1.1643,  0.8329, -0.0414],\n",
            "        [-0.5788, -1.6248, -0.5518, -0.4230],\n",
            "        [ 1.6098,  0.5206,  0.5107, -2.0941],\n",
            "        [-1.2117, -1.4468,  1.8321,  1.0256],\n",
            "        [-1.3603, -0.2622, -1.2146, -0.1080],\n",
            "        [-2.0057, -0.0147, -0.5353, -1.0083],\n",
            "        [-0.0325,  0.4108, -0.8361,  0.6890],\n",
            "        [ 0.5511,  0.4748,  0.6531, -1.6028],\n",
            "        [ 0.3881,  0.6723,  0.5506, -0.7520]])\n"
          ]
        }
      ]
    },
    {
      "cell_type": "code",
      "source": [
        "print(y)"
      ],
      "metadata": {
        "colab": {
          "base_uri": "https://localhost:8080/"
        },
        "id": "gxnkr_agShKu",
        "outputId": "434f3ece-bd23-415b-9fef-e4a71cc58a33"
      },
      "execution_count": null,
      "outputs": [
        {
          "output_type": "stream",
          "name": "stdout",
          "text": [
            "tensor([1, 1, 0, 0, 1, 1, 1, 1, 1, 0])\n"
          ]
        }
      ]
    },
    {
      "cell_type": "code",
      "source": [
        "#trining_loop\n",
        "epochs = 120\n",
        "for e in range(epochs):\n",
        "  optimizer.zero_grad()\n",
        "  outputs = model_func(x)\n",
        "  loss = criteria(outputs,y)\n",
        "  loss.backward()#calculating grad\n",
        "  optimizer.step()#upadting weights\n",
        "  if(e+1)%10==0:\n",
        "    print(f\"epoch [{e+1}]/50, Loss:{loss.item(): .4f}\")"
      ],
      "metadata": {
        "colab": {
          "base_uri": "https://localhost:8080/"
        },
        "id": "CFV3li6TSkRe",
        "outputId": "ef39263f-0bb8-49c1-baa1-3a2b1eb02d57"
      },
      "execution_count": null,
      "outputs": [
        {
          "output_type": "stream",
          "name": "stdout",
          "text": [
            "epoch [10]/50, Loss: 0.1982\n",
            "epoch [20]/50, Loss: 0.1830\n",
            "epoch [30]/50, Loss: 0.1681\n",
            "epoch [40]/50, Loss: 0.1564\n",
            "epoch [50]/50, Loss: 0.1453\n",
            "epoch [60]/50, Loss: 0.1342\n",
            "epoch [70]/50, Loss: 0.1229\n",
            "epoch [80]/50, Loss: 0.1118\n",
            "epoch [90]/50, Loss: 0.1011\n",
            "epoch [100]/50, Loss: 0.0898\n",
            "epoch [110]/50, Loss: 0.0794\n",
            "epoch [120]/50, Loss: 0.0696\n"
          ]
        }
      ]
    },
    {
      "cell_type": "code",
      "source": [],
      "metadata": {
        "id": "CiCdAD6aStqs"
      },
      "execution_count": null,
      "outputs": []
    }
  ]
}