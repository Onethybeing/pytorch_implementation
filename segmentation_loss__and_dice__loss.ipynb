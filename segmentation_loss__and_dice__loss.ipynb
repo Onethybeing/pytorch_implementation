{
  "nbformat": 4,
  "nbformat_minor": 0,
  "metadata": {
    "colab": {
      "provenance": [],
      "authorship_tag": "ABX9TyMjzm/QIYTg3Vf13NEDR0hj",
      "include_colab_link": true
    },
    "kernelspec": {
      "name": "python3",
      "display_name": "Python 3"
    },
    "language_info": {
      "name": "python"
    }
  },
  "cells": [
    {
      "cell_type": "markdown",
      "metadata": {
        "id": "view-in-github",
        "colab_type": "text"
      },
      "source": [
        "<a href=\"https://colab.research.google.com/github/Onethybeing/pytorch_implementation/blob/main/segmentation_loss__and_dice__loss.ipynb\" target=\"_parent\"><img src=\"https://colab.research.google.com/assets/colab-badge.svg\" alt=\"Open In Colab\"/></a>"
      ]
    },
    {
      "cell_type": "code",
      "execution_count": 3,
      "metadata": {
        "id": "QWhDOMcXU2O1"
      },
      "outputs": [],
      "source": [
        "import torch\n",
        "import torch.nn.functional as F"
      ]
    },
    {
      "cell_type": "code",
      "source": [
        "image =torch.tensor([\n",
        "    [1,3,2,4],\n",
        "    [5,6,7,8],\n",
        "    [9,2,3,1],\n",
        "    [4,0,6,2]\n",
        "]).float().unsqueeze(0).unsqueeze(0)"
      ],
      "metadata": {
        "id": "wn1xjcR2VCtA"
      },
      "execution_count": 8,
      "outputs": []
    },
    {
      "cell_type": "code",
      "source": [
        "image.ndim"
      ],
      "metadata": {
        "colab": {
          "base_uri": "https://localhost:8080/"
        },
        "id": "sAy074NpVbuZ",
        "outputId": "d1825058-c427-4702-ce0e-2d69b3abba09"
      },
      "execution_count": 9,
      "outputs": [
        {
          "output_type": "execute_result",
          "data": {
            "text/plain": [
              "4"
            ]
          },
          "metadata": {},
          "execution_count": 9
        }
      ]
    },
    {
      "cell_type": "code",
      "source": [
        "image.shape"
      ],
      "metadata": {
        "colab": {
          "base_uri": "https://localhost:8080/"
        },
        "id": "VvDMwTcoV6Ta",
        "outputId": "9f98dd99-d675-4b56-db40-ec064d7dbd93"
      },
      "execution_count": 10,
      "outputs": [
        {
          "output_type": "execute_result",
          "data": {
            "text/plain": [
              "torch.Size([1, 1, 4, 4])"
            ]
          },
          "metadata": {},
          "execution_count": 10
        }
      ]
    },
    {
      "cell_type": "code",
      "source": [
        "pooled = F.max_pool2d(image,kernel_size=2)"
      ],
      "metadata": {
        "id": "eeennWwHWBEE"
      },
      "execution_count": 20,
      "outputs": []
    },
    {
      "cell_type": "code",
      "source": [
        "conv_layer= torch.nn.Conv2d(1,1,kernel_size=3,stride=2)\n",
        "conv_output = conv_layer(image)"
      ],
      "metadata": {
        "id": "srwY79N1WIe9"
      },
      "execution_count": 21,
      "outputs": []
    },
    {
      "cell_type": "code",
      "source": [
        "print(\"max-pooled output: \",pooled.squeeze())"
      ],
      "metadata": {
        "colab": {
          "base_uri": "https://localhost:8080/"
        },
        "id": "svvSzMvgWYU5",
        "outputId": "3f8e8afb-92ee-4c84-dcc4-a0ce7b930ee1"
      },
      "execution_count": 22,
      "outputs": [
        {
          "output_type": "stream",
          "name": "stdout",
          "text": [
            "max-pooled output:  tensor([[6., 8.],\n",
            "        [9., 6.]])\n"
          ]
        }
      ]
    },
    {
      "cell_type": "code",
      "source": [
        "print(\"strict Convolution Output: \",conv_output.squeeze())"
      ],
      "metadata": {
        "colab": {
          "base_uri": "https://localhost:8080/"
        },
        "id": "nArSooSKXhC_",
        "outputId": "f41c0241-d010-43fd-baf9-0e2afdc4e1e7"
      },
      "execution_count": 23,
      "outputs": [
        {
          "output_type": "stream",
          "name": "stdout",
          "text": [
            "strict Convolution Output:  tensor(-4.2270, grad_fn=<SqueezeBackward0>)\n"
          ]
        }
      ]
    },
    {
      "cell_type": "code",
      "source": [
        "import torch\n",
        "import torch.nn.functional as F\n",
        "image = torch.tensor([[1,2],[3,4]]).float().unsqueeze(0).unsqueeze(0)"
      ],
      "metadata": {
        "id": "S01tCZKgYD9n"
      },
      "execution_count": 28,
      "outputs": []
    },
    {
      "cell_type": "code",
      "source": [
        "upsampled_nn = F.interpolate(image,scale_factor=2,mode='nearest')"
      ],
      "metadata": {
        "id": "-rSEUaH_b9BV"
      },
      "execution_count": 38,
      "outputs": []
    },
    {
      "cell_type": "code",
      "source": [
        "conv_transpose =torch.nn.ConvTranspose2d(1,1,kernel_size=2,stride =2,padding=1)"
      ],
      "metadata": {
        "id": "ruCb-1l7ch2z"
      },
      "execution_count": 35,
      "outputs": []
    },
    {
      "cell_type": "code",
      "source": [
        "output_transpose = conv_transpose(image)"
      ],
      "metadata": {
        "id": "PkgZ1OQrc4W5"
      },
      "execution_count": 36,
      "outputs": []
    },
    {
      "cell_type": "code",
      "source": [
        "print(\"nearest neighbour Upsampling :\",upsampled_nn.squeeze())\n",
        "print(\"transpose Convulation Upsampling :\",upsampled_nn.squeeze())"
      ],
      "metadata": {
        "colab": {
          "base_uri": "https://localhost:8080/"
        },
        "id": "pOfnZxjSdJeI",
        "outputId": "309bc195-fee9-4060-a101-cdf987904dd2"
      },
      "execution_count": 41,
      "outputs": [
        {
          "output_type": "stream",
          "name": "stdout",
          "text": [
            "nearest neighbour Upsampling : tensor([[1., 1., 2., 2.],\n",
            "        [1., 1., 2., 2.],\n",
            "        [3., 3., 4., 4.],\n",
            "        [3., 3., 4., 4.]])\n",
            "transpose Convulation Upsampling : tensor([[1., 1., 2., 2.],\n",
            "        [1., 1., 2., 2.],\n",
            "        [3., 3., 4., 4.],\n",
            "        [3., 3., 4., 4.]])\n"
          ]
        }
      ]
    },
    {
      "cell_type": "markdown",
      "source": [
        "###Segmentation loss function\n"
      ],
      "metadata": {
        "id": "6BIiGvOmeGQ1"
      }
    },
    {
      "cell_type": "code",
      "source": [
        "def dice_loss(pred,target,smooth=1e-6):\n",
        "  intersection = (pred*target).sum()\n",
        "  union = pred.sum()+target.sum()\n",
        "  return 1-(2*intersection+smooth)/(union+smooth)"
      ],
      "metadata": {
        "id": "HnGJk3-Qjo73"
      },
      "execution_count": 48,
      "outputs": []
    },
    {
      "cell_type": "code",
      "source": [
        "import torch\n",
        "import torch.nn.functional as F\n",
        "pred = torch.tensor([0.9,0.1,0.8,0.4])\n",
        "target = torch.tensor([1,0,1,0],dtype = torch.float32)\n",
        "cross_loss = F.binary_cross_entropy(pred,target)\n",
        "dice = dice_loss(pred,target)"
      ],
      "metadata": {
        "colab": {
          "base_uri": "https://localhost:8080/"
        },
        "id": "xDssisQPdeNH",
        "outputId": "da2c6974-244a-4f65-8da1-95bdd025176c"
      },
      "execution_count": 60,
      "outputs": [
        {
          "output_type": "stream",
          "name": "stdout",
          "text": [
            "<function dice_loss at 0x799d3f8ea160>\n"
          ]
        }
      ]
    },
    {
      "cell_type": "code",
      "source": [
        "def segmentation_loss(cross_loss,dice_loss,weightage):\n",
        "  return cross_loss*weightage + dice_loss"
      ],
      "metadata": {
        "id": "lzFWRaXqoC79"
      },
      "execution_count": 58,
      "outputs": []
    },
    {
      "cell_type": "code",
      "source": [
        "print(segmentation_loss(cross_loss,dice,weightage=1))"
      ],
      "metadata": {
        "colab": {
          "base_uri": "https://localhost:8080/"
        },
        "id": "qEY1Y-ihpYIN",
        "outputId": "2dae3147-97bb-42d3-e4ad-d0157fb7a6ae"
      },
      "execution_count": 57,
      "outputs": [
        {
          "output_type": "stream",
          "name": "stdout",
          "text": [
            "tensor(0.4266)\n"
          ]
        }
      ]
    },
    {
      "cell_type": "code",
      "source": [],
      "metadata": {
        "id": "M0shxBDerAY9"
      },
      "execution_count": null,
      "outputs": []
    }
  ]
}